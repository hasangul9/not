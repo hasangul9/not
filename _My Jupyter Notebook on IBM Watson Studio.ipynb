{
 "cells": [
  {
   "cell_type": "markdown",
   "id": "15a465bf-8dc5-4744-9d63-c13db6e439c3",
   "metadata": {},
   "source": [
    "<h1> My Jupyter Notebook on IBM Watson Studio </h1>\n"
   ]
  },
  {
   "cell_type": "markdown",
   "id": "a688d7ef-8446-491f-8c04-05295f36d693",
   "metadata": {},
   "source": [
    "<strong>Hasan Gul</strong>"
   ]
  },
  {
   "cell_type": "markdown",
   "id": "7861ea7a-d778-48b4-bed9-f78a4c1081b6",
   "metadata": {},
   "source": [
    "Data Scientist"
   ]
  },
  {
   "cell_type": "markdown",
   "id": "deffad3c-24fc-4dad-96c6-ce1818e71574",
   "metadata": {},
   "source": [
    "<em> I want to be a data scientist because I want to work remotely. </em>"
   ]
  },
  {
   "cell_type": "markdown",
   "id": "7b64f42d-f376-45f5-80fe-1de553ba9f15",
   "metadata": {},
   "source": [
    "<h3> The calculation will be done in the next cell. </h3>"
   ]
  },
  {
   "cell_type": "code",
   "execution_count": null,
   "id": "4598b0ac-a08b-46ac-80cb-16fa8832770c",
   "metadata": {},
   "outputs": [
    {
     "data": {
      "text/plain": [
       "2"
      ]
     },
     "execution_count": 3,
     "metadata": {},
     "output_type": "execute_result"
    }
   ],
   "source": [
    "1+1"
   ]
  },
  {
   "cell_type": "markdown",
   "id": "f4f49fa0-a8d9-440f-acf1-f0e50bacf379",
   "metadata": {},
   "source": [
    "<hr>"
   ]
  },
  {
   "cell_type": "markdown",
   "id": "abc0e8ce-b10a-4e55-b361-b998519f84c1",
   "metadata": {},
   "source": [
    "<Ol>\n",
    "<li> bir </li>\n",
    "<li> iki </li>\n",
    "<li> uc </li>\n",
    "    </ol>"
   ]
  },
  {
   "cell_type": "markdown",
   "id": "a108e8dc-9a48-4393-aeeb-271e4d23f80a",
   "metadata": {},
   "source": [
    "<table>\n",
    "<tr> \n",
    "  <th> Name </th> \n",
    "  <th> Country </th>\n",
    ">tr>\n",
    "<tr>\n",
    "<td> Hasan Gul </td>\n",
    "<td> Turkey </td>\n",
    "</tr>\n",
    "<tr> <td>john Smith </td>\n",
    "<td> USA </td>\n",
    "</tr>\n",
    "</table>\n"
   ]
  }
 ],
 "metadata": {
  "kernelspec": {
   "display_name": "Python",
   "language": "python",
   "name": "conda-env-python-py"
  },
  "language_info": {
   "codemirror_mode": {
    "name": "ipython",
    "version": 3
   },
   "file_extension": ".py",
   "mimetype": "text/x-python",
   "name": "python",
   "nbconvert_exporter": "python",
   "pygments_lexer": "ipython3",
   "version": "3.7.12"
  }
 },
 "nbformat": 4,
 "nbformat_minor": 5
}
